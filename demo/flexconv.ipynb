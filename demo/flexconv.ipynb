{
 "cells": [
  {
   "cell_type": "code",
   "execution_count": 1,
   "metadata": {},
   "outputs": [],
   "source": [
    "%load_ext autoreload"
   ]
  },
  {
   "cell_type": "markdown",
   "metadata": {},
   "source": [
    "# FlexConv demo\n",
    "\n",
    "In this notebook, we illustrate the construction of a simple FlexNet, proposed in our work [FlexConv: Continuous Kernel Convolutions with Differentiable Kernel Sizes](https://arxiv.org/abs/2110.08059). The code provided here is a simplified version of the main code. For baseline comparisons please refer to the main code.\n",
    "\n",
    "In particular, we will:\n",
    "* Show how to instantiate a FlexConv layer, from the `ckconv` package.\n",
    "* Show how to instantiate a FlexNet network, from the `models` package.\n",
    "* Show how to regularize a FlexConv/FlexNet against aliasing.\n",
    "\n",
    "Let's go! First, we import some packages:"
   ]
  },
  {
   "cell_type": "code",
   "execution_count": 2,
   "metadata": {},
   "outputs": [],
   "source": [
    "%autoreload\n",
    "\n",
    "# Append .. to path\n",
    "import os,sys\n",
    "ckconv_source =  os.path.join(os.getcwd(), '..')\n",
    "if ckconv_source not in sys.path:\n",
    "    sys.path.append(ckconv_source)\n",
    "    \n",
    "import numpy as np\n",
    "import torch\n",
    "from torch.nn.utils import weight_norm\n",
    "from omegaconf import OmegaConf\n",
    "\n",
    "import ckconv.nn as cknn\n",
    "from models import Img_ResNet\n",
    "\n",
    "from matplotlib import pyplot as plt\n",
    "from PIL import Image"
   ]
  },
  {
   "cell_type": "markdown",
   "metadata": {},
   "source": [
    "## FlexConv\n",
    "\n",
    "The FlexConv module can be used in place of a regular convolutional module in any architecture. The only required argument that is novel w.r.t. to vanilla convolutions is the `horizon` value, which is the largest kernel size the FlexConv can learn. The horizon should be an odd integer, so that the learned kernel is centered on a pixel, instead of on a subpixel. We recommend it to be the image size.\n",
    "\n",
    "The init signature of FlexConv is quite long, as it takes many arguments. Almost all arguments however are provided a default value, which the user does not need to think about.\n",
    "\n",
    "```python\n",
    "\"\"\"\n",
    "Flexible Size Continuous Kernel Convolution.\n",
    "\n",
    ":param in_channels: Number of channels in the input signal\n",
    ":param out_channels: Number of channels produced by the convolution\n",
    ":param horizon: Maximum kernel size. Recommended to be odd and cover the entire conv_image.\n",
    ":param kernel_type: Identifier for the type of kernel generator to use.\n",
    ":param kernel_dim_linear: Dimensionality of the input signal, e.g. 2 for images.\n",
    ":param kernel_no_hidden: Amount of hidden channels to use.\n",
    ":param kernel_activ_function: Activation function for type=MLP.\n",
    ":param kernel_norm: Normalization function for type=MLP.\n",
    ":param kernel_weight_norm: Weight normalization, for type=[MLP, SIREN, nSIREN].\n",
    ":param kernel_no_layers: Amount of layers to use in kernel generator.\n",
    ":param kernel_omega_0: Initial value for omega_0, for type=SIREN.\n",
    ":param kernel_learn_omega_0: Whether to learn omega_0, for type=SIREN.\n",
    ":param kernel_steerable: Whether to learn steerable kernels, for type=MAGNet.\n",
    ":param kernel_init_spatial_value: Initial mu for gabor filters, for type=[GaborNet, MAGNet].\n",
    ":param kernel_bias_init: Bias init strategy, for all types but type=MLP.\n",
    ":param kernel_input_scale: Scaling factor for linear functions, for type=[GaborNet, MAGNet].\n",
    ":param kernel_sampling_rate_norm: Kernel scaling factor for sampling rate normalization.\n",
    ":param conv_use_fft: Whether to use FFT implementation of convolution.\n",
    ":param conv_bias: Whether to use bias in kernel generator. TODO(rjbruin): move to kernel_config.\n",
    ":param conv_padding: Padding strategy for convolution.\n",
    ":param conv_stride: Stride applied in convolution.\n",
    ":param mask_use: Whether to apply Gaussian mask.\n",
    ":param mask_type: Type of mask. Recommended to use \"gaussian\".\n",
    ":param mask_init_value: Initial value for the size of the kernel.\n",
    ":param mask_temperature: Temperature of the sigmoid function, for type=sigmoid.\n",
    ":param mask_dynamic_cropping: Whether to crop away pixels below the threshold.\n",
    ":param mask_threshold: Threshold for cropping pixels. Recommended to be 15.0.\n",
    "\"\"\"\n",
    "```"
   ]
  },
  {
   "cell_type": "code",
   "execution_count": 3,
   "metadata": {},
   "outputs": [],
   "source": [
    "# Override default config values\n",
    "in_channels = 3\n",
    "out_channels = 3\n",
    "horizon = 33\n",
    "\n",
    "flexconv_example = cknn.FlexConv(\n",
    "    in_channels,\n",
    "    out_channels,\n",
    "    horizon,\n",
    ")"
   ]
  },
  {
   "cell_type": "markdown",
   "metadata": {},
   "source": [
    "Let's convolve a random CIFAR-10 image with our randomly initialized FlexConv:"
   ]
  },
  {
   "cell_type": "code",
   "execution_count": 4,
   "metadata": {},
   "outputs": [
    {
     "data": {
      "image/png": "[encoded data removed]",
      "text/plain": [
       "<Figure size 1080x360 with 4 Axes>"
      ]
     },
     "metadata": {
      "needs_background": "light"
     },
     "output_type": "display_data"
    }
   ],
   "source": [
    "fig, axs = plt.subplots(1, 4, figsize=(15, 5))\n",
    "\n",
    "x_pyplot = np.asarray(Image.open('truck5.png')) / 255.\n",
    "axs[0].imshow(x_pyplot)\n",
    "axs[0].set_title('Input')\n",
    "\n",
    "x_net = torch.tensor(x_pyplot, dtype=torch.float32).permute(2, 0, 1)\n",
    "x_net = x_net.reshape(1, 3, x_pyplot.shape[0], x_pyplot.shape[1])\n",
    "y_net = flexconv_example(x_net)[0]\n",
    "y_pyplot = y_net.detach().numpy()\n",
    "axs[1].imshow(y_pyplot[0])\n",
    "axs[1].set_title('Channel 1')\n",
    "axs[2].imshow(y_pyplot[1])\n",
    "axs[2].set_title('Channel 2')\n",
    "axs[3].imshow(y_pyplot[2])\n",
    "axs[3].set_title('Channel 3')\n",
    "pass"
   ]
  },
  {
   "cell_type": "markdown",
   "metadata": {},
   "source": [
    "## FlexNet\n",
    "\n",
    "We will show how to construct FlexNets, which are residual networks that use FlexConvs. These classes take `OmegaConf` objects as arguments, which integrates with our experimentation framework. We realize this makes them harder to use, though we anticipate that most users will want to use FlexConv modules in their own network definitions rather than using our network definitions. For the former purpose,the FlexConv and CKConv modules are written in a more accessible, reusable API.\n",
    "\n",
    "We load the default configuration that we use for our experiments, and overwrite it with the settings we used in our CIFAR-10 FlexNet-5 experiments."
   ]
  },
  {
   "cell_type": "code",
   "execution_count": 5,
   "metadata": {},
   "outputs": [
    {
     "name": "stdout",
     "output_type": "stream",
     "text": [
      "Block 0/5\n",
      "Block 1/5\n",
      "Block 2/5\n",
      "Block 3/5\n",
      "Block 4/5\n"
     ]
    }
   ],
   "source": [
    "config = OmegaConf.load('../cfg/config.yaml')\n",
    "\n",
    "config.net.type = \"ResNet\"\n",
    "config.net.no_hidden = 22\n",
    "config.net.no_blocks = 5\n",
    "config.net.dropout = 0.2\n",
    "config.net.dropout_in = 0.0\n",
    "config.net.norm = \"BatchNorm\"\n",
    "config.net.nonlinearity = \"ReLU\"\n",
    "config.net.block_width_factors = [1.0, 1, 1.5, 2, 2.0, 2]\n",
    "config.kernel.input_scale = 25.6\n",
    "config.kernel.type = \"MAGNet\"\n",
    "config.kernel.no_hidden = 32\n",
    "config.kernel.no_layers = 3\n",
    "config.kernel.dim_linear = 2\n",
    "config.kernel.init_spatial_value = 1.0\n",
    "config.kernel.bias_init = None\n",
    "config.kernel.input_scale = 25.6\n",
    "config.conv.type = \"FlexConv\"\n",
    "config.conv.bias = True\n",
    "config.conv.horizon = 33\n",
    "config.mask.use = True\n",
    "config.mask.type = \"gaussian\"\n",
    "config.mask.temperature = 15.0\n",
    "config.mask.init_value = 0.075\n",
    "config.mask.dynamic_cropping = True\n",
    "config.mask.threshold = 0.1\n",
    "\n",
    "network = Img_ResNet(\n",
    "    3,\n",
    "    10,\n",
    "    net_config=config.net,\n",
    "    kernel_config=config.kernel,\n",
    "    conv_config=config.conv,\n",
    "    mask_config=config.mask,\n",
    ")"
   ]
  },
  {
   "cell_type": "markdown",
   "metadata": {},
   "source": [
    "Voila! We have constructed a FlexNet. We let now a batch of CIFAR-10 images go through the network:"
   ]
  },
  {
   "cell_type": "code",
   "execution_count": 6,
   "metadata": {},
   "outputs": [
    {
     "name": "stdout",
     "output_type": "stream",
     "text": [
      "Batch shape:  torch.Size([10, 3, 32, 32])\n",
      "Output shape:  torch.Size([10, 10])\n"
     ]
    }
   ],
   "source": [
    "batch_size = 10\n",
    "in_channels = 3\n",
    "image_np = np.asarray(Image.open('truck5.png')) / 255.\n",
    "batch = torch.tensor(image_np, dtype=torch.float32).unsqueeze(0).repeat(batch_size, 1, 1, 1).permute(0, 3, 1, 2)\n",
    "print(f\"Batch shape: \", batch.shape)\n",
    "\n",
    "out = network(batch)\n",
    "print(f\"Output shape: \", out.shape)"
   ]
  },
  {
   "cell_type": "markdown",
   "metadata": {},
   "source": [
    "Now we look at some of the kernels at initialization of the network:"
   ]
  },
  {
   "cell_type": "code",
   "execution_count": 7,
   "metadata": {},
   "outputs": [
    {
     "data": {
      "image/png": "[encoded data removed]",
      "text/plain": [
       "<Figure size 1296x288 with 22 Axes>"
      ]
     },
     "metadata": {
      "needs_background": "light"
     },
     "output_type": "display_data"
    }
   ],
   "source": [
    "gaussian = lambda x, mu, sigma: 1./(sigma * np.sqrt(2 * np.pi)) * np.exp( - (x - mu)**2 / (2 * sigma**2))\n",
    "x = np.linspace(-1, 1, 33)\n",
    "\n",
    "figsize = (18, 4)\n",
    "fig, axs = plt.subplots(nrows=2, ncols=11,figsize=figsize)\n",
    "\n",
    "counter = 0\n",
    "for m in network.modules():\n",
    "    if isinstance(m, cknn.FlexConv):\n",
    "        axs[0,counter].set_title('Kernel at layer {}'.format(counter + 1))\n",
    "        axs[0,counter].imshow(m.conv_kernel[0,0].detach().cpu().numpy())\n",
    "        \n",
    "        # Plot gaussian mask by outer product of 1D gaussians\n",
    "        x_mu = m.mask_params[0,0].detach().numpy()\n",
    "        x_sigma = m.mask_params[0,1].detach().numpy()\n",
    "        y_mu = m.mask_params[1,0].detach().numpy()\n",
    "        y_sigma = m.mask_params[1,1].detach().numpy()\n",
    "        axs[1,counter].set_title('Size at layer {}'.format(counter + 1))\n",
    "        gauss = np.outer(gaussian(x, x_mu, x_sigma), gaussian(x, y_mu, y_sigma))\n",
    "        axs[1,counter].imshow(gauss)\n",
    "        \n",
    "        counter = counter + 1\n",
    "        \n",
    "plt.tight_layout()\n",
    "plt.show()"
   ]
  },
  {
   "cell_type": "markdown",
   "metadata": {},
   "source": [
    "As you can see, all filters are quite small at initialization, as the gaussian masks are initialized to have a low variance. If we were to train this FlexNet-5 model on CIFAR-10, we would find that the kernel sizes increase with depth, as in the middle row of Fig. 6 from the paper, reproduced here:\n",
    "\n",
    "![](kernel_sizes_flexnet.png)"
   ]
  },
  {
   "cell_type": "markdown",
   "metadata": {},
   "source": [
    "Finally, we look at the number of parameters and the dimension of the filters of the network:"
   ]
  },
  {
   "cell_type": "code",
   "execution_count": 8,
   "metadata": {},
   "outputs": [
    {
     "name": "stdout",
     "output_type": "stream",
     "text": [
      "Convolutional Kernel Sizes:\n",
      "torch.Size([22, 3, 5, 5])\n",
      "torch.Size([22, 22, 5, 5])\n",
      "torch.Size([22, 22, 5, 5])\n",
      "torch.Size([33, 22, 5, 5])\n",
      "torch.Size([33, 33, 5, 5])\n",
      "torch.Size([33, 33, 5, 5])\n",
      "torch.Size([33, 33, 5, 5])\n",
      "torch.Size([44, 33, 5, 5])\n",
      "torch.Size([44, 44, 5, 5])\n",
      "torch.Size([44, 44, 5, 5])\n",
      "torch.Size([44, 44, 5, 5])\n",
      "Number of parameters: 454046\n"
     ]
    }
   ],
   "source": [
    "# ------------------------------\n",
    "# Parameter counter\n",
    "def num_params(model):\n",
    "    return sum(p.numel() for p in model.parameters() if p.requires_grad)\n",
    "# -----------------------------\n",
    "\n",
    "print('Convolutional Kernel Sizes:')\n",
    "for m in network.modules():\n",
    "    if isinstance(m, cknn.FlexConv):\n",
    "        print(m.conv_kernel.shape)\n",
    "    elif isinstance(m, torch.nn.Linear):\n",
    "        print(m.weight.shape)\n",
    "         \n",
    "print('Number of parameters: {}'.format(num_params(network)))"
   ]
  },
  {
   "cell_type": "markdown",
   "metadata": {},
   "source": [
    "# Aliasing regularization\n",
    "\n",
    "To use FlexNets across different resolutions one needs to train with an anti-aliasing regularization term. The module `antialiasing.py` provides the necessary methods. \n",
    "\n",
    "## Using pre-defined method for whole network\n",
    "\n",
    "The method `regularize_gabornet()` applies regularization to a network with FlexConv modules that all have the same horizon. Internally, it supports a couple different settings for applying the regularization over multiple modules and filters, but using the default settings, which we also used in our experiments, should be sufficient. Specifically, the default setting uses the following algorithm, in parallel  for all FlexConv modules in the network:\n",
    "\n",
    "1. We compute the frequency response $f^+_{\\textrm{MAGNet},l}$ of each layer $l \\in L$ of the MAGNet, as well as the frequency response of the FlexConv gaussian mask $f^+_{w_\\textrm{gauss}}$ for the whole MAGNet.\n",
    "2. We distribute $f^+_{w_\\textrm{gauss}}$ uniformly over all MAGNet layer frequency responses $f^+_{\\textrm{MAGNet},l}$:\n",
    "\n",
    "$\\hat{f}^+_{\\textrm{MAGNet},l} = f^+_{\\textrm{MAGNet},l} + \\frac{f^+_{w_\\textrm{gauss}}}{L}$\n",
    "\n",
    "3. We then regularize each MAGNet layer $\\hat{f}^+_{\\textrm{MAGNet},l}$ against a uniform part of the Nyquist frequency:\n",
    "\n",
    "$\\mathcal{L}_{\\mathrm{HF}} = \\sum_l^L ||\\max\\{\\hat{f}^+_{\\textrm{MAGNet},l}, \\frac{1}{L} f_{\\mathrm{Nyq}}(k)\\} - \\frac{1}{L} f_{\\mathrm{Nyq}}(k)||^2 $\n",
    "\n",
    "This implementation of the regularization ensures that all layers of the MAGNet get an independent regularization signal, instead of making the regularization term of individual layers dependent on each other. Notably, it is slightly different from the \"naive\" implementation of the regularization in Eq. 25 of our paper.\n",
    "\n",
    "This is the init signature of `regularize_gabornet()`:\n",
    "\n",
    "```\n",
    "regularize_gabornet()\n",
    "\n",
    ":param model: Model definition to be regularized (torch.nn.Module).\n",
    ":param horizon: Integer horizon used in the FlexConvs of this network.\n",
    ":param factor: Lambda weight for applying the regularization term to the loss.\n",
    ":param target=\"gabor\": Which parts of the FlexConv to regularize. Use \"gabor+mask\" for including the gaussian mask, and \"gabor\" for excluding it.\n",
    ":param fn=\"l2_relu\": Function applied over the excess frequency content to regularize it.\n",
    ":param method=\"together\": How to collect the different excess frequencies for regularization.\n",
    ":param gauss_stddevs=1.0: Standard deviations used to compute the effect of the gaussian term in the Gabor filters.\n",
    "```"
   ]
  },
  {
   "cell_type": "code",
   "execution_count": 9,
   "metadata": {},
   "outputs": [
    {
     "name": "stdout",
     "output_type": "stream",
     "text": [
      "tensor(433.4299, grad_fn=<MulBackward0>)\n"
     ]
    }
   ],
   "source": [
    "from antialiasing import regularize_gabornet\n",
    "\n",
    "\n",
    "regularization_term = regularize_gabornet(network, config.conv.horizon, 0.1, target=\"gabor+mask\")\n",
    "print(regularization_term)"
   ]
  },
  {
   "cell_type": "markdown",
   "metadata": {},
   "source": [
    "## Manually\n",
    "\n",
    "`regularize_gabornet()` is a custom piece of code, that supports many more features than reported in our paper. Here, we show the minimal code for reproducing the proposed regularization method, using the \"together\" strategy. We use the helper methods in `antialiasing.py`.\n",
    "\n",
    "First, we use the method `gabor_layer_frequencies()` to get the maximum frequency response for a single FlexConv module:"
   ]
  },
  {
   "cell_type": "code",
   "execution_count": 23,
   "metadata": {},
   "outputs": [
    {
     "name": "stdout",
     "output_type": "stream",
     "text": [
      "Frequencies for each layer of the MAGNet:\n",
      "tensor([20.0273, 10.9657,  8.2731,  3.4877], grad_fn=<CopySlices>)\n",
      "Frequency of the FlexConv gaussian mask:\n",
      "tensor(2.1221, grad_fn=<DivBackward0>)\n"
     ]
    }
   ],
   "source": [
    "from antialiasing import gabor_layer_frequencies, nyquist_frequency, l2_relu\n",
    "\n",
    "\n",
    "module = network.cconv1\n",
    "magnet_layer_frequencies, mask_frequency = gabor_layer_frequencies(module, \"gabor+mask\", \"together\", gauss_stddevs=1.0)\n",
    "\n",
    "print(\"Frequencies for each layer of the MAGNet:\")\n",
    "print(magnet_layer_frequencies)\n",
    "\n",
    "print(\"Frequency of the FlexConv gaussian mask:\")\n",
    "print(mask_frequency)"
   ]
  },
  {
   "cell_type": "markdown",
   "metadata": {},
   "source": [
    "Then, we distribute the mask frequency over the MAGNet layer frequencies."
   ]
  },
  {
   "cell_type": "code",
   "execution_count": 24,
   "metadata": {},
   "outputs": [
    {
     "name": "stdout",
     "output_type": "stream",
     "text": [
      "Frequencies for each layer of the MAGNet, after including uniformly distributed mask frequency:\n",
      "tensor([20.5578, 11.4962,  8.8036,  4.0182], grad_fn=<AddBackward0>)\n"
     ]
    }
   ],
   "source": [
    "# Distribute mask frequency equally over all magnet layer frequencies\n",
    "n_filters = magnet_layer_frequencies.shape[0]\n",
    "mask_freqs = mask_frequency.unsqueeze(0).repeat([n_filters]) / torch.tensor(\n",
    "    n_filters, dtype=torch.float32\n",
    ")\n",
    "flexconv_freqs = magnet_layer_frequencies + mask_freqs\n",
    "\n",
    "print(\"Frequencies for each layer of the MAGNet, after including uniformly distributed mask frequency:\")\n",
    "print(flexconv_freqs)"
   ]
  },
  {
   "cell_type": "markdown",
   "metadata": {},
   "source": [
    "Now, we compute the Nyquist frequency for the kernel size (\"horizon\") we are training with. We divide by the amount of layers, as per the \"together\" regularization strategy:"
   ]
  },
  {
   "cell_type": "code",
   "execution_count": null,
   "metadata": {},
   "outputs": [],
   "source": [
    "# Compute Nyquist frequency\n",
    "nyquist_freq = nyquist_frequency(config.conv.horizon)\n",
    "print(\"\\nNyquist frequency:\")\n",
    "print(nyquist_freq)\n",
    "# We uniformly spread the Nyquist frequency over all layers of the MAGNet,\n",
    "# following the \"together\" method\n",
    "print(\"\\nNyquist frequency, per layer:\")\n",
    "print(nyquist_freq / n_filters)"
   ]
  },
  {
   "cell_type": "markdown",
   "metadata": {},
   "source": [
    "Finally, we compute the regularization term by taking the difference between the MAGNet frequencies and the Nyquist frequencies, and compute the L2 norm:"
   ]
  },
  {
   "cell_type": "code",
   "execution_count": null,
   "metadata": {},
   "outputs": [],
   "source": [
    "# Compute regularization term\n",
    "frequencies_to_reg = flexconv_freqs - (nyquist_freq / n_filters)\n",
    "print(\"\\nAmount of frequency to remove, per layer:\")\n",
    "print(frequencies_to_reg)\n",
    "print(\"\\nRegularization term = L2(freqs - nyquist):\")\n",
    "print(l2_relu(flexconv_freqs, nyquist_freq / n_filters))"
   ]
  }
 ],
 "metadata": {
  "interpreter": {
   "hash": "c07c5c8510eb4113ecf49d62ba29a0bcaa1ec6bcd4eeac2966e4ed4a88286269"
  },
  "kernelspec": {
   "display_name": "Python 3.8.5 64-bit ('flexconv': conda)",
   "name": "python3"
  },
  "language_info": {
   "codemirror_mode": {
    "name": "ipython",
    "version": 3
   },
   "file_extension": ".py",
   "mimetype": "text/x-python",
   "name": "python",
   "nbconvert_exporter": "python",
   "pygments_lexer": "ipython3",
   "version": "3.8.5"
  }
 },
 "nbformat": 4,
 "nbformat_minor": 4
}
